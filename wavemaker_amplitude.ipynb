{
 "cells": [
  {
   "cell_type": "code",
   "execution_count": 5,
   "id": "758bbde3-3d0d-4461-8e69-41835a7d6d55",
   "metadata": {},
   "outputs": [
    {
     "data": {
      "text/plain": [
       "0.017511130817405192"
      ]
     },
     "execution_count": 5,
     "metadata": {},
     "output_type": "execute_result"
    }
   ],
   "source": [
    "import numpy as np\n",
    "def wavemaker(h,wave_period,wave_height):\n",
    "    k0 = 1.\n",
    "    e = 1.\n",
    "    while e > 1.e-7:\n",
    "        k1 = k0-(k0*np.tanh(k0*h)-(2.*np.pi/wave_period)**2/9.81)/(np.tanh(k0*h)+k0-k0*(np.tanh(k0*h))**2)\n",
    "        e = abs((k1-k0)/k0)\n",
    "        hs = 2.*(np.cosh(2.*k1*h)-1.)/(np.sinh(2.*k1*h)+2*k1*h)\n",
    "        s = wave_height/hs\n",
    "        wave_amplitude = 0.5*s\n",
    "        k0 = k1\n",
    "    return wave_amplitude\n",
    "\n",
    "wavemaker(0.3,2.01975,0.02)"
   ]
  },
  {
   "cell_type": "code",
   "execution_count": null,
   "id": "b5dfe0c0-af6b-4544-825c-729684e0bd74",
   "metadata": {},
   "outputs": [],
   "source": []
  }
 ],
 "metadata": {
  "kernelspec": {
   "display_name": "Python(Proteus Dev)",
   "language": "python",
   "name": "python-proteus-dev"
  },
  "language_info": {
   "codemirror_mode": {
    "name": "ipython",
    "version": 3
   },
   "file_extension": ".py",
   "mimetype": "text/x-python",
   "name": "python",
   "nbconvert_exporter": "python",
   "pygments_lexer": "ipython3",
   "version": "3.9.1"
  }
 },
 "nbformat": 4,
 "nbformat_minor": 5
}
