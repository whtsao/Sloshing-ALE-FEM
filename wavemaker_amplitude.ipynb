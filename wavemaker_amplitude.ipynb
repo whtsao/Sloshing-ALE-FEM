{
 "cells": [
  {
   "cell_type": "code",
   "execution_count": 7,
   "id": "758bbde3-3d0d-4461-8e69-41835a7d6d55",
   "metadata": {},
   "outputs": [
    {
     "data": {
      "text/plain": [
       "[<matplotlib.lines.Line2D at 0x7f622afab220>,\n",
       " <matplotlib.lines.Line2D at 0x7f622afab280>,\n",
       " <matplotlib.lines.Line2D at 0x7f622afab3a0>]"
      ]
     },
     "execution_count": 7,
     "metadata": {},
     "output_type": "execute_result"
    },
    {
     "data": {
      "image/png": "[encoded data removed]",
      "text/plain": [
       "<Figure size 432x288 with 1 Axes>"
      ]
     },
     "metadata": {
      "needs_background": "light"
     },
     "output_type": "display_data"
    }
   ],
   "source": [
    "import numpy as np\n",
    "\n",
    "\n",
    "def periodic(h,wave_period,wave_height):\n",
    "    k0 = 1.\n",
    "    e = 1.\n",
    "    while e > 1.e-7:\n",
    "        k1 = k0-(k0*np.tanh(k0*h)-(2.*np.pi/wave_period)**2/9.81)/(np.tanh(k0*h)+k0-k0*(np.tanh(k0*h))**2)\n",
    "        e = abs((k1-k0)/k0)\n",
    "        hs = 2.*(np.cosh(2.*k1*h)-1.)/(np.sinh(2.*k1*h)+2*k1*h)\n",
    "        s = wave_height/hs\n",
    "        wave_amplitude = 0.5*s\n",
    "        k0 = k1\n",
    "    return wave_amplitude\n",
    "\n",
    "\n",
    "def solitary(h0,wave_H,g,total_step,dt):\n",
    "    alpha = wave_H/h0\n",
    "    wave_K = (3./4.*alpha)**0.5\n",
    "    wave_K = wave_K*(1.-.625*alpha+.554688*alpha**2-.561535*alpha**3+.567095*alpha**4-.602969*alpha**5 \\\n",
    "                   +.624914*alpha**6-.670850*alpha**7+.700371*alpha**8)\n",
    "    wave_C = 1.+alpha\n",
    "    wave_C = wave_C-.05*alpha**2-.0428571*alpha**3-.0342857*alpha**4-.0315195*alpha**5-.0292784*alpha**6 \\\n",
    "    -.0268451*alpha**7-.0302634*alpha**8-.0219347*alpha**9\n",
    "    wave_K = wave_K/h0\n",
    "    wave_C = wave_C**0.5*(g*h0)**0.5\n",
    "    \n",
    "    x0 = -5.*wave_C\n",
    "    x = 0.\n",
    "    \n",
    "    vel = np.zeros(total_step)\n",
    "    for step in range(total_step):\n",
    "        vel[step] = wmbc(alpha,total_step,step,dt,wave_H,wave_K,wave_C,h0,x0,x,g)\n",
    "    \n",
    "    [dis,acc] = get_wmk_dis_acc(total_step,vel,dt)\n",
    "\n",
    "    return dis,vel,acc\n",
    "\n",
    "def get_wmk_dis_acc(total_step,vel,dt):\n",
    "    dis = np.zeros(total_step)\n",
    "    acc = np.zeros(total_step)\n",
    "    for j in range(total_step):\n",
    "        dis[j] = dis[j-1]+0.5*dt*(vel[j-1]+vel[j])\n",
    "        if j == total_step-1:\n",
    "            acc[j]=acc[j-1]\n",
    "        elif j == 0:\n",
    "            acc[j] = (vel[j+1]-vel[j])/dt\n",
    "        else:\n",
    "            acc[j]=0.5*(vel[j+1]-vel[j-1])/dt\n",
    "    return dis,acc\n",
    "\n",
    "def wmbc(alpha,total_step,step,dt,wave_H,wave_K,wave_C,h0,x0,x,g):\n",
    "    t = step*dt\n",
    "    kk = wave_K*h0\n",
    "    cc = wave_C/(g*h0)**0.5\n",
    "    xxx = x\n",
    "    XX = (xxx-x0-wave_C*t)/h0\n",
    "    S = 1./np.cosh(kk*XX)\n",
    "    zeta = S**2*alpha\n",
    "    zeta = zeta+(-.75*S**2+.75*S**4)*alpha**2\n",
    "    zeta = zeta+(.625*S**2-1.8875*S**4+1.2625*S**6)*alpha**3\n",
    "    zeta = zeta+(-1.36817*S**2+3.88033*S**4-4.68304*S**6+2.17088*S**8)*alpha**4\n",
    "    zeta = zeta+(1.86057*S**2-7.45136*S**4+12.7637*S**6-11.4199*S**8+4.24687*S**10)*alpha**5\n",
    "    zeta = zeta+(-2.57413*S**2+13.2856*S**4-31.1191*S**6+40.1068*S**8-28.4272*S**10+8.728*S**12)*alpha**6\n",
    "    zeta = zeta+(3.4572*S**2-22.782*S**4+68.258*S**6-116.974*S**8+120.49*S**10-71.057*S**12+18.608*S**14)*alpha**7\n",
    "    zeta = zeta+(-4.6849*S**2+37.67*S**4-139.28*S**6+301.442*S**8-411.416*S**10+355.069*S**12-180.212*S**14+41.412*S**16)*alpha**8\n",
    "    zeta = zeta+(6.191*S**2-60.57*S**4+269.84*S**6-712.125*S**8+1217.98*S**10-1384.37*S**12+1023.07*S**14-450.29*S**16+90.279*S**18)*alpha**9\n",
    "    zeta = zeta*h0\n",
    "    vel = wave_C*zeta/(h0+zeta)\n",
    "    return vel\n",
    "\n",
    "from matplotlib import pyplot as plt\n",
    "#periodic(0.3,2.01975,0.02)\n",
    "h0 = 0.7\n",
    "wave_H = 0.07\n",
    "dt = 0.001\n",
    "total_step = int(100/dt)\n",
    "g = 9.81\n",
    "time = np.linspace(0.,100,total_step)\n",
    "[dis,vel,acc] = solitary(h0,wave_H,g,total_step,dt)\n",
    "plt.plot(time,vel,time,dis,time,acc)\n",
    "\n"
   ]
  },
  {
   "cell_type": "code",
   "execution_count": null,
   "id": "b5dfe0c0-af6b-4544-825c-729684e0bd74",
   "metadata": {},
   "outputs": [],
   "source": []
  }
 ],
 "metadata": {
  "kernelspec": {
   "display_name": "Python(Proteus Dev)",
   "language": "python",
   "name": "python-proteus-dev"
  },
  "language_info": {
   "codemirror_mode": {
    "name": "ipython",
    "version": 3
   },
   "file_extension": ".py",
   "mimetype": "text/x-python",
   "name": "python",
   "nbconvert_exporter": "python",
   "pygments_lexer": "ipython3",
   "version": "3.10.5"
  }
 },
 "nbformat": 4,
 "nbformat_minor": 5
}
